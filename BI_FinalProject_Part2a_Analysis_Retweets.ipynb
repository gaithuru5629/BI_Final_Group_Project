{
 "cells": [
  {
   "cell_type": "markdown",
   "id": "e5e4c441",
   "metadata": {},
   "source": [
    "## Part 2: Analyze the data¶\n",
    "\n",
    "1. Social Media Data Analysis     \n",
    "2. Data Visualization "
   ]
  },
  {
   "cell_type": "markdown",
   "id": "52595f5e",
   "metadata": {},
   "source": [
    "### Social Media Data Analysis - For Public Tweets"
   ]
  },
  {
   "cell_type": "markdown",
   "id": "2afdc933",
   "metadata": {},
   "source": [
    "Focus on analyzing:\n",
    "\n",
    "    1. Most retweeted words\n",
    "    2. IRCC tweets"
   ]
  },
  {
   "cell_type": "code",
   "execution_count": 1,
   "id": "001dab4b",
   "metadata": {},
   "outputs": [],
   "source": [
    "# !python -m spacy download en_core_web_lg"
   ]
  },
  {
   "cell_type": "code",
   "execution_count": 2,
   "id": "290e5613",
   "metadata": {},
   "outputs": [],
   "source": [
    "import pandas as pd\n",
    "import matplotlib.pyplot as plt\n",
    "import re\n",
    "import spacy\n",
    "nlp = spacy.load('en_core_web_lg')\n",
    "import seaborn as sns"
   ]
  },
  {
   "cell_type": "code",
   "execution_count": 3,
   "id": "3c8f35df",
   "metadata": {},
   "outputs": [],
   "source": [
    "#loading most_retweeted and ircc data to DataFrames\n",
    "most_retweeted_df = pd.read_csv(\"most_retweeted.csv\")\n",
    "ircc_df = pd.read_csv(\"ircc_df.csv\")"
   ]
  },
  {
   "cell_type": "code",
   "execution_count": 4,
   "id": "4dfd96da",
   "metadata": {},
   "outputs": [
    {
     "data": {
      "text/html": [
       "<div>\n",
       "<style scoped>\n",
       "    .dataframe tbody tr th:only-of-type {\n",
       "        vertical-align: middle;\n",
       "    }\n",
       "\n",
       "    .dataframe tbody tr th {\n",
       "        vertical-align: top;\n",
       "    }\n",
       "\n",
       "    .dataframe thead th {\n",
       "        text-align: right;\n",
       "    }\n",
       "</style>\n",
       "<table border=\"1\" class=\"dataframe\">\n",
       "  <thead>\n",
       "    <tr style=\"text-align: right;\">\n",
       "      <th></th>\n",
       "      <th>Unnamed: 0</th>\n",
       "      <th>User</th>\n",
       "      <th>Tweet</th>\n",
       "    </tr>\n",
       "  </thead>\n",
       "  <tbody>\n",
       "    <tr>\n",
       "      <th>0</th>\n",
       "      <td>0</td>\n",
       "      <td>CitImmCanada</td>\n",
       "      <td>@DenysProd 2/2 For case-specific information, ...</td>\n",
       "    </tr>\n",
       "    <tr>\n",
       "      <th>1</th>\n",
       "      <td>1</td>\n",
       "      <td>CitImmCanada</td>\n",
       "      <td>@DenysProd 1/2 Hi. CUAET electronic visa appli...</td>\n",
       "    </tr>\n",
       "    <tr>\n",
       "      <th>2</th>\n",
       "      <td>2</td>\n",
       "      <td>CitImmCanada</td>\n",
       "      <td>@eireenien 2/2 For case-specific information, ...</td>\n",
       "    </tr>\n",
       "    <tr>\n",
       "      <th>3</th>\n",
       "      <td>3</td>\n",
       "      <td>CitImmCanada</td>\n",
       "      <td>@eireenien 1/2 Hi. CUAET electronic visa appli...</td>\n",
       "    </tr>\n",
       "    <tr>\n",
       "      <th>4</th>\n",
       "      <td>4</td>\n",
       "      <td>CitImmCanada</td>\n",
       "      <td>Our online services were recently unavailable....</td>\n",
       "    </tr>\n",
       "  </tbody>\n",
       "</table>\n",
       "</div>"
      ],
      "text/plain": [
       "   Unnamed: 0          User                                              Tweet\n",
       "0           0  CitImmCanada  @DenysProd 2/2 For case-specific information, ...\n",
       "1           1  CitImmCanada  @DenysProd 1/2 Hi. CUAET electronic visa appli...\n",
       "2           2  CitImmCanada  @eireenien 2/2 For case-specific information, ...\n",
       "3           3  CitImmCanada  @eireenien 1/2 Hi. CUAET electronic visa appli...\n",
       "4           4  CitImmCanada  Our online services were recently unavailable...."
      ]
     },
     "execution_count": 4,
     "metadata": {},
     "output_type": "execute_result"
    }
   ],
   "source": [
    "ircc_df.head()"
   ]
  },
  {
   "cell_type": "code",
   "execution_count": 5,
   "id": "b03da10f",
   "metadata": {},
   "outputs": [
    {
     "data": {
      "text/html": [
       "<div>\n",
       "<style scoped>\n",
       "    .dataframe tbody tr th:only-of-type {\n",
       "        vertical-align: middle;\n",
       "    }\n",
       "\n",
       "    .dataframe tbody tr th {\n",
       "        vertical-align: top;\n",
       "    }\n",
       "\n",
       "    .dataframe thead th {\n",
       "        text-align: right;\n",
       "    }\n",
       "</style>\n",
       "<table border=\"1\" class=\"dataframe\">\n",
       "  <thead>\n",
       "    <tr style=\"text-align: right;\">\n",
       "      <th></th>\n",
       "      <th>Unnamed: 0</th>\n",
       "      <th>Time</th>\n",
       "      <th>Retweets</th>\n",
       "      <th>User</th>\n",
       "      <th>Tweet</th>\n",
       "    </tr>\n",
       "  </thead>\n",
       "  <tbody>\n",
       "    <tr>\n",
       "      <th>0</th>\n",
       "      <td>16</td>\n",
       "      <td>2022-04-26 13:00:01+00:00</td>\n",
       "      <td>37</td>\n",
       "      <td>Reuters</td>\n",
       "      <td>Today, April 26, marks the 36th anniversary of...</td>\n",
       "    </tr>\n",
       "    <tr>\n",
       "      <th>1</th>\n",
       "      <td>15</td>\n",
       "      <td>2022-04-26 13:01:10+00:00</td>\n",
       "      <td>36</td>\n",
       "      <td>Reuters</td>\n",
       "      <td>Russia's 'victory' in Mariupol turns city's dr...</td>\n",
       "    </tr>\n",
       "    <tr>\n",
       "      <th>2</th>\n",
       "      <td>6</td>\n",
       "      <td>2022-04-26 13:29:04+00:00</td>\n",
       "      <td>35</td>\n",
       "      <td>Reuters</td>\n",
       "      <td>Moscow accused NATO of engaging in a proxy bat...</td>\n",
       "    </tr>\n",
       "    <tr>\n",
       "      <th>3</th>\n",
       "      <td>17</td>\n",
       "      <td>2022-04-26 12:56:37+00:00</td>\n",
       "      <td>32</td>\n",
       "      <td>Reuters</td>\n",
       "      <td>Health authorities around the world are invest...</td>\n",
       "    </tr>\n",
       "    <tr>\n",
       "      <th>4</th>\n",
       "      <td>8</td>\n",
       "      <td>2022-04-26 13:20:19+00:00</td>\n",
       "      <td>29</td>\n",
       "      <td>Reuters</td>\n",
       "      <td>Karachi blast kills three Chinese, including C...</td>\n",
       "    </tr>\n",
       "  </tbody>\n",
       "</table>\n",
       "</div>"
      ],
      "text/plain": [
       "   Unnamed: 0                       Time  Retweets     User  \\\n",
       "0          16  2022-04-26 13:00:01+00:00        37  Reuters   \n",
       "1          15  2022-04-26 13:01:10+00:00        36  Reuters   \n",
       "2           6  2022-04-26 13:29:04+00:00        35  Reuters   \n",
       "3          17  2022-04-26 12:56:37+00:00        32  Reuters   \n",
       "4           8  2022-04-26 13:20:19+00:00        29  Reuters   \n",
       "\n",
       "                                               Tweet  \n",
       "0  Today, April 26, marks the 36th anniversary of...  \n",
       "1  Russia's 'victory' in Mariupol turns city's dr...  \n",
       "2  Moscow accused NATO of engaging in a proxy bat...  \n",
       "3  Health authorities around the world are invest...  \n",
       "4  Karachi blast kills three Chinese, including C...  "
      ]
     },
     "execution_count": 5,
     "metadata": {},
     "output_type": "execute_result"
    }
   ],
   "source": [
    "most_retweeted_df.head()"
   ]
  },
  {
   "cell_type": "markdown",
   "id": "0d7b7a65",
   "metadata": {},
   "source": [
    "### 1. Public Tweets - Most Retweeted Words"
   ]
  },
  {
   "cell_type": "code",
   "execution_count": 6,
   "id": "cb1d3c97",
   "metadata": {},
   "outputs": [],
   "source": [
    "#sentiment analysis\n",
    "import matplotlib.pyplot as plt\n",
    "import re\n",
    "import spacy\n",
    "nlp =  spacy.load('en_core_web_lg')\n",
    "import seaborn as sns"
   ]
  },
  {
   "cell_type": "code",
   "execution_count": 7,
   "id": "d888931c",
   "metadata": {},
   "outputs": [
    {
     "name": "stdout",
     "output_type": "stream",
     "text": [
      "['Today, April 26, marks the 36th anniversary of the Chornobyl nuclear disaster caused by a meltdown in a reactor in… https://t.co/ormVjw8qjH', \"Russia's 'victory' in Mariupol turns city's dreams to rubble https://t.co/PkVcDXQyuY https://t.co/6VElufAFtd\", 'Moscow accused NATO of engaging in a proxy battle against Russia by arming Ukraine, saying this had created a serio… https://t.co/smoaiSX3bn', 'Health authorities around the world are investigating a mysterious increase in severe cases of hepatitis - inflamma… https://t.co/4VXkAxlg1z', 'Karachi blast kills three Chinese, including Confucius centre head, and Pakistani https://t.co/Y84DloHEHu https://t.co/ekxykoBqIU', 'North Korea will speed up development of its nuclear arsenal, leader Kim Jong Un said while overseeing a huge milit… https://t.co/kDheiKFo15', 'A previously unreported account of a 36-hour chase in June 2020 offers a rare glimpse into how conservation group A… https://t.co/b5IhIZsKck', 'Second Ebola patient dies in northwestern Congo, WHO says https://t.co/Xiim6EPqhh https://t.co/OCwjipf7gX', 'Russia accuses NATO of creating a serious risk of nuclear war. Ukraine prepares war crimes charges against Russian… https://t.co/pzBYB6WHgc', 'Beijing to test 20 mln for COVID in bid to avert Shanghai lockdown misery https://t.co/n7iaxNFfjW https://t.co/AGccfXlnKE', 'As plumes of smoke rose above the Azovstal steel plant where Ukrainian fighters are holed up in the port city of Ma… https://t.co/hoHUdZWT8z', 'HSBC puts 2022 buyback ambitions on ice as inflation accelerates https://t.co/pvjJwXgM0N https://t.co/qNpgwkyscy', 'HSBC posted a 27% drop in quarterly profit and nixed the possibility of more buybacks this year, as rising inflatio… https://t.co/hJEV6scETX', 'Fidelity to allow retirement savings allocation to bitcoin in 401(k) accounts https://t.co/WqijSHXVuM https://t.co/oB2kn9HFLr', 'RT @ReutersScience: LIVE: NASA briefing with Bill Nelson ahead of SpaceX launch to ISS https://t.co/kNR9crcyqb', 'Poland plans drastic cut to Warsaw flights in traffic controller row https://t.co/REdgDjiVQr https://t.co/UlaiAcdoXd', 'Warner Bros Discovery adds 2 mln subscribers in first quarter https://t.co/p1dgl9JMFv https://t.co/CM6m9OAPbw', 'U.S. military landlord put families at risk even after fraud plea, Senate probe says https://t.co/k5RfUZiERE https://t.co/lKEqADEIYs', 'Maersk says shipping boom will stabilise in H2, revises up profit guidance https://t.co/3XJKZSbGNx https://t.co/Xh3hQCObH0']\n"
     ]
    }
   ],
   "source": [
    "#generating a list of sentences from the content of DataFrame most_retweeted_df\n",
    "sentence_list = [sentence for sentence in most_retweeted_df.Tweet]\n",
    "print(sentence_list)"
   ]
  },
  {
   "cell_type": "code",
   "execution_count": 8,
   "id": "c8b245fe",
   "metadata": {},
   "outputs": [
    {
     "name": "stdout",
     "output_type": "stream",
     "text": [
      "word_lines:  ['Today,', 'April', '26,', 'marks', 'the', '36th', 'anniversary', 'of', 'the', 'Chornobyl', 'nuclear', 'disaster', 'caused', 'by', 'a', 'meltdown', 'in', 'a', 'reactor', 'in…', 'https://t.co/ormVjw8qjH', \"Russia's\", \"'victory'\", 'in', 'Mariupol', 'turns', \"city's\", 'dreams', 'to', 'rubble', 'https://t.co/PkVcDXQyuY', 'https://t.co/6VElufAFtd', 'Moscow', 'accused', 'NATO', 'of', 'engaging', 'in', 'a', 'proxy', 'battle', 'against', 'Russia', 'by', 'arming', 'Ukraine,', 'saying', 'this', 'had', 'created', 'a', 'serio…', 'https://t.co/smoaiSX3bn', 'Health', 'authorities', 'around', 'the', 'world', 'are', 'investigating', 'a', 'mysterious', 'increase', 'in', 'severe', 'cases', 'of', 'hepatitis', '-', 'inflamma…', 'https://t.co/4VXkAxlg1z', 'Karachi', 'blast', 'kills', 'three', 'Chinese,', 'including', 'Confucius', 'centre', 'head,', 'and', 'Pakistani', 'https://t.co/Y84DloHEHu', 'https://t.co/ekxykoBqIU', 'North', 'Korea', 'will', 'speed', 'up', 'development', 'of', 'its', 'nuclear', 'arsenal,', 'leader', 'Kim', 'Jong', 'Un', 'said', 'while', 'overseeing', 'a', 'huge', 'milit…', 'https://t.co/kDheiKFo15', 'A', 'previously', 'unreported', 'account', 'of', 'a', '36-hour', 'chase', 'in', 'June', '2020', 'offers', 'a', 'rare', 'glimpse', 'into', 'how', 'conservation', 'group', 'A…', 'https://t.co/b5IhIZsKck', 'Second', 'Ebola', 'patient', 'dies', 'in', 'northwestern', 'Congo,', 'WHO', 'says', 'https://t.co/Xiim6EPqhh', 'https://t.co/OCwjipf7gX', 'Russia', 'accuses', 'NATO', 'of', 'creating', 'a', 'serious', 'risk', 'of', 'nuclear', 'war.', 'Ukraine', 'prepares', 'war', 'crimes', 'charges', 'against', 'Russian…', 'https://t.co/pzBYB6WHgc', 'Beijing', 'to', 'test', '20', 'mln', 'for', 'COVID', 'in', 'bid', 'to', 'avert', 'Shanghai', 'lockdown', 'misery', 'https://t.co/n7iaxNFfjW', 'https://t.co/AGccfXlnKE', 'As', 'plumes', 'of', 'smoke', 'rose', 'above', 'the', 'Azovstal', 'steel', 'plant', 'where', 'Ukrainian', 'fighters', 'are', 'holed', 'up', 'in', 'the', 'port', 'city', 'of', 'Ma…', 'https://t.co/hoHUdZWT8z', 'HSBC', 'puts', '2022', 'buyback', 'ambitions', 'on', 'ice', 'as', 'inflation', 'accelerates', 'https://t.co/pvjJwXgM0N', 'https://t.co/qNpgwkyscy', 'HSBC', 'posted', 'a', '27%', 'drop', 'in', 'quarterly', 'profit', 'and', 'nixed', 'the', 'possibility', 'of', 'more', 'buybacks', 'this', 'year,', 'as', 'rising', 'inflatio…', 'https://t.co/hJEV6scETX', 'Fidelity', 'to', 'allow', 'retirement', 'savings', 'allocation', 'to', 'bitcoin', 'in', '401(k)', 'accounts', 'https://t.co/WqijSHXVuM', 'https://t.co/oB2kn9HFLr', 'RT', '@ReutersScience:', 'LIVE:', 'NASA', 'briefing', 'with', 'Bill', 'Nelson', 'ahead', 'of', 'SpaceX', 'launch', 'to', 'ISS', 'https://t.co/kNR9crcyqb', 'Poland', 'plans', 'drastic', 'cut', 'to', 'Warsaw', 'flights', 'in', 'traffic', 'controller', 'row', 'https://t.co/REdgDjiVQr', 'https://t.co/UlaiAcdoXd', 'Warner', 'Bros', 'Discovery', 'adds', '2', 'mln', 'subscribers', 'in', 'first', 'quarter', 'https://t.co/p1dgl9JMFv', 'https://t.co/CM6m9OAPbw', 'U.S.', 'military', 'landlord', 'put', 'families', 'at', 'risk', 'even', 'after', 'fraud', 'plea,', 'Senate', 'probe', 'says', 'https://t.co/k5RfUZiERE', 'https://t.co/lKEqADEIYs', 'Maersk', 'says', 'shipping', 'boom', 'will', 'stabilise', 'in', 'H2,', 'revises', 'up', 'profit', 'guidance', 'https://t.co/3XJKZSbGNx', 'https://t.co/Xh3hQCObH0']\n"
     ]
    }
   ],
   "source": [
    "#splitting the list of sentences to a list of sentences containing a list of words and putting \n",
    "#all the words collectively into one list.\n",
    "\n",
    "word_lines = []\n",
    "for sentence in sentence_list:\n",
    "    #print(\"sentence: \", sentence)\n",
    "    words = sentence.split()\n",
    "    #print(\"words: \", words)\n",
    "    for r in words:\n",
    "        word_lines.append(r)\n",
    "\n",
    "print(\"word_lines: \", word_lines)"
   ]
  },
  {
   "cell_type": "code",
   "execution_count": 9,
   "id": "5a78eae0",
   "metadata": {},
   "outputs": [
    {
     "name": "stdout",
     "output_type": "stream",
     "text": [
      "word_lines_1:  ['Today', 'April', '26', 'marks', 'the', '36th', 'anniversary', 'of', 'the', 'Chornobyl', 'nuclear', 'disaster', 'caused', 'by', 'a', 'meltdown', 'in', 'a', 'reactor', 'in', 'httpstcoormVjw8qjH', 'Russias', 'victory', 'in', 'Mariupol', 'turns', 'citys', 'dreams', 'to', 'rubble', 'httpstcoPkVcDXQyuY', 'httpstco6VElufAFtd', 'Moscow', 'accused', 'NATO', 'of', 'engaging', 'in', 'a', 'proxy', 'battle', 'against', 'Russia', 'by', 'arming', 'Ukraine', 'saying', 'this', 'had', 'created', 'a', 'serio', 'httpstcosmoaiSX3bn', 'Health', 'authorities', 'around', 'the', 'world', 'are', 'investigating', 'a', 'mysterious', 'increase', 'in', 'severe', 'cases', 'of', 'hepatitis', 'inflamma', 'httpstco4VXkAxlg1z', 'Karachi', 'blast', 'kills', 'three', 'Chinese', 'including', 'Confucius', 'centre', 'head', 'and', 'Pakistani', 'httpstcoY84DloHEHu', 'httpstcoekxykoBqIU', 'North', 'Korea', 'will', 'speed', 'up', 'development', 'of', 'its', 'nuclear', 'arsenal', 'leader', 'Kim', 'Jong', 'Un', 'said', 'while', 'overseeing', 'a', 'huge', 'milit', 'httpstcokDheiKFo15', 'A', 'previously', 'unreported', 'account', 'of', 'a', '36hour', 'chase', 'in', 'June', '2020', 'offers', 'a', 'rare', 'glimpse', 'into', 'how', 'conservation', 'group', 'A', 'httpstcob5IhIZsKck', 'Second', 'Ebola', 'patient', 'dies', 'in', 'northwestern', 'Congo', 'WHO', 'says', 'httpstcoXiim6EPqhh', 'httpstcoOCwjipf7gX', 'Russia', 'accuses', 'NATO', 'of', 'creating', 'a', 'serious', 'risk', 'of', 'nuclear', 'war', 'Ukraine', 'prepares', 'war', 'crimes', 'charges', 'against', 'Russian', 'httpstcopzBYB6WHgc', 'Beijing', 'to', 'test', '20', 'mln', 'for', 'COVID', 'in', 'bid', 'to', 'avert', 'Shanghai', 'lockdown', 'misery', 'httpstcon7iaxNFfjW', 'httpstcoAGccfXlnKE', 'As', 'plumes', 'of', 'smoke', 'rose', 'above', 'the', 'Azovstal', 'steel', 'plant', 'where', 'Ukrainian', 'fighters', 'are', 'holed', 'up', 'in', 'the', 'port', 'city', 'of', 'Ma', 'httpstcohoHUdZWT8z', 'HSBC', 'puts', '2022', 'buyback', 'ambitions', 'on', 'ice', 'as', 'inflation', 'accelerates', 'httpstcopvjJwXgM0N', 'httpstcoqNpgwkyscy', 'HSBC', 'posted', 'a', '27', 'drop', 'in', 'quarterly', 'profit', 'and', 'nixed', 'the', 'possibility', 'of', 'more', 'buybacks', 'this', 'year', 'as', 'rising', 'inflatio', 'httpstcohJEV6scETX', 'Fidelity', 'to', 'allow', 'retirement', 'savings', 'allocation', 'to', 'bitcoin', 'in', '401k', 'accounts', 'httpstcoWqijSHXVuM', 'httpstcooB2kn9HFLr', 'RT', 'ReutersScience', 'LIVE', 'NASA', 'briefing', 'with', 'Bill', 'Nelson', 'ahead', 'of', 'SpaceX', 'launch', 'to', 'ISS', 'httpstcokNR9crcyqb', 'Poland', 'plans', 'drastic', 'cut', 'to', 'Warsaw', 'flights', 'in', 'traffic', 'controller', 'row', 'httpstcoREdgDjiVQr', 'httpstcoUlaiAcdoXd', 'Warner', 'Bros', 'Discovery', 'adds', '2', 'mln', 'subscribers', 'in', 'first', 'quarter', 'httpstcop1dgl9JMFv', 'httpstcoCM6m9OAPbw', 'US', 'military', 'landlord', 'put', 'families', 'at', 'risk', 'even', 'after', 'fraud', 'plea', 'Senate', 'probe', 'says', 'httpstcok5RfUZiERE', 'httpstcolKEqADEIYs', 'Maersk', 'says', 'shipping', 'boom', 'will', 'stabilise', 'in', 'H2', 'revises', 'up', 'profit', 'guidance', 'httpstco3XJKZSbGNx', 'httpstcoXh3hQCObH0']\n"
     ]
    }
   ],
   "source": [
    "#removing punctuations and fillers - to have only words with letters in them\n",
    "word_lines = [re.sub(r'[^A-Za-z0-9]+','',x) for x in word_lines]\n",
    "#print(word_lines)\n",
    "\n",
    "word_lines_1 = []\n",
    "for word in word_lines:\n",
    "    if word != '':\n",
    "        word_lines_1.append(word)\n",
    "print(\"word_lines_1: \", word_lines_1)"
   ]
  },
  {
   "cell_type": "code",
   "execution_count": 10,
   "id": "ce858b8f",
   "metadata": {},
   "outputs": [
    {
     "name": "stdout",
     "output_type": "stream",
     "text": [
      "['today', 'april', '26', 'mark', 'the', '36th', 'anniversari', 'of', 'the', 'chornobyl', 'nuclear', 'disast', 'caus', 'by', 'a', 'meltdown', 'in', 'a', 'reactor', 'in', 'httpstcoormvjw8qjh', 'russia', 'victori', 'in', 'mariupol', 'turn', 'citi', 'dream', 'to', 'rubbl', 'httpstcopkvcdxqyuy', 'httpstco6velufaftd', 'moscow', 'accus', 'nato', 'of', 'engag', 'in', 'a', 'proxi', 'battl', 'against', 'russia', 'by', 'arm', 'ukrain', 'say', 'this', 'had', 'creat', 'a', 'serio', 'httpstcosmoaisx3bn', 'health', 'author', 'around', 'the', 'world', 'are', 'investig', 'a', 'mysteri', 'increas', 'in', 'sever', 'case', 'of', 'hepat', 'inflamma', 'httpstco4vxkaxlg1z', 'karachi', 'blast', 'kill', 'three', 'chines', 'includ', 'confucius', 'centr', 'head', 'and', 'pakistani', 'httpstcoy84dlohehu', 'httpstcoekxykobqiu', 'north', 'korea', 'will', 'speed', 'up', 'develop', 'of', 'it', 'nuclear', 'arsenal', 'leader', 'kim', 'jong', 'un', 'said', 'while', 'overse', 'a', 'huge', 'milit', 'httpstcokdheikfo15', 'a', 'previous', 'unreport', 'account', 'of', 'a', '36hour', 'chase', 'in', 'june', '2020', 'offer', 'a', 'rare', 'glimps', 'into', 'how', 'conserv', 'group', 'a', 'httpstcob5ihizskck', 'second', 'ebola', 'patient', 'die', 'in', 'northwestern', 'congo', 'who', 'say', 'httpstcoxiim6epqhh', 'httpstcoocwjipf7gx', 'russia', 'accus', 'nato', 'of', 'creat', 'a', 'serious', 'risk', 'of', 'nuclear', 'war', 'ukrain', 'prepar', 'war', 'crime', 'charg', 'against', 'russian', 'httpstcopzbyb6whgc', 'beij', 'to', 'test', '20', 'mln', 'for', 'covid', 'in', 'bid', 'to', 'avert', 'shanghai', 'lockdown', 'miseri', 'httpstcon7iaxnffjw', 'httpstcoagccfxlnk', 'as', 'plume', 'of', 'smoke', 'rose', 'abov', 'the', 'azovst', 'steel', 'plant', 'where', 'ukrainian', 'fighter', 'are', 'hole', 'up', 'in', 'the', 'port', 'citi', 'of', 'ma', 'httpstcohohudzwt8z', 'hsbc', 'put', '2022', 'buyback', 'ambit', 'on', 'ice', 'as', 'inflat', 'acceler', 'httpstcopvjjwxgm0n', 'httpstcoqnpgwkysci', 'hsbc', 'post', 'a', '27', 'drop', 'in', 'quarter', 'profit', 'and', 'nix', 'the', 'possibl', 'of', 'more', 'buyback', 'this', 'year', 'as', 'rise', 'inflatio', 'httpstcohjev6scetx', 'fidel', 'to', 'allow', 'retir', 'save', 'alloc', 'to', 'bitcoin', 'in', '401k', 'account', 'httpstcowqijshxvum', 'httpstcoob2kn9hflr', 'rt', 'reuterssci', 'live', 'nasa', 'brief', 'with', 'bill', 'nelson', 'ahead', 'of', 'spacex', 'launch', 'to', 'iss', 'httpstcoknr9crcyqb', 'poland', 'plan', 'drastic', 'cut', 'to', 'warsaw', 'flight', 'in', 'traffic', 'control', 'row', 'httpstcoredgdjivqr', 'httpstcoulaiacdoxd', 'warner', 'bros', 'discoveri', 'add', '2', 'mln', 'subscrib', 'in', 'first', 'quarter', 'httpstcop1dgl9jmfv', 'httpstcocm6m9oapbw', 'us', 'militari', 'landlord', 'put', 'famili', 'at', 'risk', 'even', 'after', 'fraud', 'plea', 'senat', 'probe', 'say', 'httpstcok5rfuzier', 'httpstcolkeqadeiy', 'maersk', 'say', 'ship', 'boom', 'will', 'stabilis', 'in', 'h2', 'revis', 'up', 'profit', 'guidanc', 'httpstco3xjkzsbgnx', 'httpstcoxh3hqcobh0']\n"
     ]
    }
   ],
   "source": [
    "#identifying the base word (stem) of a set of words using the Natural Language Toolkit (NLTK)\n",
    "\n",
    "from nltk.stem.snowball import SnowballStemmer\n",
    "\n",
    "words1_stemmer = SnowballStemmer(language='english')\n",
    "\n",
    "#creating a lis to store the base words(stems)\n",
    "base_word = []\n",
    "for word1 in word_lines_1:\n",
    "    base_word.append(words1_stemmer.stem(word1))\n",
    "\n",
    "print(base_word)"
   ]
  },
  {
   "cell_type": "code",
   "execution_count": 11,
   "id": "1deca949",
   "metadata": {},
   "outputs": [
    {
     "name": "stdout",
     "output_type": "stream",
     "text": [
      "['today', 'april', '26', 'mark', '36th', 'anniversari', 'chornobyl', 'nuclear', 'disast', 'caus', 'meltdown', 'reactor', 'httpstcoormvjw8qjh', 'russia', 'victori', 'mariupol', 'turn', 'citi', 'dream', 'rubbl', 'httpstcopkvcdxqyuy', 'httpstco6velufaftd', 'moscow', 'accus', 'nato', 'engag', 'proxi', 'battl', 'russia', 'arm', 'ukrain', 'creat', 'serio', 'httpstcosmoaisx3bn', 'health', 'author', 'world', 'investig', 'mysteri', 'increas', 'sever', 'case', 'hepat', 'inflamma', 'httpstco4vxkaxlg1z', 'karachi', 'blast', 'kill', 'chines', 'includ', 'confucius', 'centr', 'head', 'pakistani', 'httpstcoy84dlohehu', 'httpstcoekxykobqiu', 'north', 'korea', 'speed', 'develop', 'nuclear', 'arsenal', 'leader', 'kim', 'jong', 'un', 'said', 'overse', 'huge', 'milit', 'httpstcokdheikfo15', 'previous', 'unreport', 'account', '36hour', 'chase', 'june', '2020', 'offer', 'rare', 'glimps', 'conserv', 'group', 'httpstcob5ihizskck', 'second', 'ebola', 'patient', 'die', 'northwestern', 'congo', 'httpstcoxiim6epqhh', 'httpstcoocwjipf7gx', 'russia', 'accus', 'nato', 'creat', 'risk', 'nuclear', 'war', 'ukrain', 'prepar', 'war', 'crime', 'charg', 'russian', 'httpstcopzbyb6whgc', 'beij', 'test', '20', 'mln', 'covid', 'bid', 'avert', 'shanghai', 'lockdown', 'miseri', 'httpstcon7iaxnffjw', 'httpstcoagccfxlnk', 'plume', 'smoke', 'rose', 'abov', 'azovst', 'steel', 'plant', 'ukrainian', 'fighter', 'hole', 'port', 'citi', 'ma', 'httpstcohohudzwt8z', 'hsbc', '2022', 'buyback', 'ambit', 'ice', 'inflat', 'acceler', 'httpstcopvjjwxgm0n', 'httpstcoqnpgwkysci', 'hsbc', 'post', '27', 'drop', 'quarter', 'profit', 'nix', 'possibl', 'buyback', 'year', 'rise', 'inflatio', 'httpstcohjev6scetx', 'fidel', 'allow', 'retir', 'save', 'alloc', 'bitcoin', '401k', 'account', 'httpstcowqijshxvum', 'httpstcoob2kn9hflr', 'rt', 'reuterssci', 'live', 'nasa', 'brief', 'bill', 'nelson', 'ahead', 'spacex', 'launch', 'iss', 'httpstcoknr9crcyqb', 'poland', 'plan', 'drastic', 'cut', 'warsaw', 'flight', 'traffic', 'control', 'row', 'httpstcoredgdjivqr', 'httpstcoulaiacdoxd', 'warner', 'bros', 'discoveri', 'add', '2', 'mln', 'subscrib', 'quarter', 'httpstcop1dgl9jmfv', 'httpstcocm6m9oapbw', 'militari', 'landlord', 'famili', 'risk', 'fraud', 'plea', 'senat', 'probe', 'httpstcok5rfuzier', 'httpstcolkeqadeiy', 'maersk', 'ship', 'boom', 'stabilis', 'h2', 'revis', 'profit', 'guidanc', 'httpstco3xjkzsbgnx', 'httpstcoxh3hqcobh0']\n"
     ]
    }
   ],
   "source": [
    "#removing stop words from the base words, and putting the remaining base words (exluding stop words) in a list\n",
    "\n",
    "base_word_no_stopWords = []\n",
    "\n",
    "for word2 in base_word:\n",
    "    if word2 not in nlp.Defaults.stop_words:\n",
    "        base_word_no_stopWords.append(word2)\n",
    "\n",
    "print(base_word_no_stopWords)"
   ]
  },
  {
   "cell_type": "code",
   "execution_count": 12,
   "id": "3b8fb4b3",
   "metadata": {},
   "outputs": [
    {
     "name": "stdout",
     "output_type": "stream",
     "text": [
      "                      0\n",
      "0                 today\n",
      "1                 april\n",
      "2                    26\n",
      "3                  mark\n",
      "4                  36th\n",
      "..                  ...\n",
      "212               revis\n",
      "213              profit\n",
      "214             guidanc\n",
      "215  httpstco3xjkzsbgnx\n",
      "216  httpstcoxh3hqcobh0\n",
      "\n",
      "[217 rows x 1 columns]\n"
     ]
    },
    {
     "data": {
      "text/plain": [
       "nuclear               3\n",
       "russia                3\n",
       "mln                   2\n",
       "citi                  2\n",
       "creat                 2\n",
       "                     ..\n",
       "chase                 1\n",
       "june                  1\n",
       "2020                  1\n",
       "offer                 1\n",
       "httpstcoxh3hqcobh0    1\n",
       "Name: 0, Length: 200, dtype: int64"
      ]
     },
     "execution_count": 12,
     "metadata": {},
     "output_type": "execute_result"
    }
   ],
   "source": [
    "#Putting the resulting base words, without punctuations and stop words in a DataFrame\n",
    "most_retweeted_base_df = pd.DataFrame(base_word_no_stopWords)\n",
    "print(most_retweeted_base_df)\n",
    "\n",
    "#getting counts for each word in the dataframe\n",
    "retweeted_df_counts = most_retweeted_base_df[0].value_counts()\n",
    "retweeted_df_counts"
   ]
  },
  {
   "cell_type": "markdown",
   "id": "a68fcc01",
   "metadata": {},
   "source": [
    "### Data Visualization"
   ]
  },
  {
   "cell_type": "code",
   "execution_count": 23,
   "id": "5318ddb4",
   "metadata": {},
   "outputs": [
    {
     "name": "stderr",
     "output_type": "stream",
     "text": [
      "C:\\Users\\jngai\\anaconda3\\lib\\site-packages\\seaborn\\_decorators.py:36: FutureWarning: Pass the following variables as keyword args: x, y. From version 0.12, the only valid positional argument will be `data`, and passing other arguments without an explicit keyword will result in an error or misinterpretation.\n",
      "  warnings.warn(\n"
     ]
    },
    {
     "data": {
      "image/png": "[encoded data removed]",
      "text/plain": [
       "<Figure size 720x360 with 1 Axes>"
      ]
     },
     "metadata": {
      "needs_background": "light"
     },
     "output_type": "display_data"
    }
   ],
   "source": [
    "#Plotting a graph showing 20 top retweeted words\n",
    "retweeted_df = retweeted_df_counts[:20,]\n",
    "#retweeted_df.plot()\n",
    "\n",
    "sns.set_palette(\"pastel\")\n",
    "\n",
    "plt.figure(figsize=(10,5))\n",
    "sns.barplot(retweeted_df.values, retweeted_df.index, alpha=0.8)\n",
    "plt.title('Top 20 Retweeted Words')\n",
    "plt.ylabel('Tweet Word', fontsize=12)\n",
    "plt.xalabel('Frequency', fontsize=12)\n",
    "plt.show()"
   ]
  },
  {
   "cell_type": "markdown",
   "id": "d279f82c",
   "metadata": {},
   "source": [
    "References:    \n",
    "\n",
    "https://seaborn.pydata.org/tutorial/categorical.html   \n",
    "https://www.codecademy.com/article/seaborn-design-ii   \n",
    "https://www.youtube.com/watch?v=bNDRiaFyLrs&t=820s     \n",
    "https://www.coursera.org/learn/social-media-data-analytics    \n",
    "https://www.youtube.com/watch?v=FmbEhKSpR7M&t=330s   \n",
    "https://www.youtube.com/watch?v=uPKnSq6TaAk    "
   ]
  },
  {
   "cell_type": "code",
   "execution_count": null,
   "id": "a6581a03",
   "metadata": {},
   "outputs": [],
   "source": []
  }
 ],
 "metadata": {
  "kernelspec": {
   "display_name": "Python 3 (ipykernel)",
   "language": "python",
   "name": "python3"
  },
  "language_info": {
   "codemirror_mode": {
    "name": "ipython",
    "version": 3
   },
   "file_extension": ".py",
   "mimetype": "text/x-python",
   "name": "python",
   "nbconvert_exporter": "python",
   "pygments_lexer": "ipython3",
   "version": "3.9.7"
  }
 },
 "nbformat": 4,
 "nbformat_minor": 5
}
