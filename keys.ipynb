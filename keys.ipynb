{
 "cells": [
  {
   "cell_type": "code",
   "execution_count": null,
   "id": "420955c1",
   "metadata": {},
   "outputs": [],
   "source": [
    "consumer_key=\"bjU76PPe7QVljvef4OPLCuiRU\"\n",
    "consumer_secret=\"O0cfxocqI6BDUqvGKOEfeTVKXQGWCmd6vRKePBPw7t6mVuOR9t\"\n",
    "access_token=\"1518712716348821506-EinnlSWQVzdY5IZySxwhITJysE1t00\"\n",
    "access_token_secret=\"JW3webLIsMB98i61UNRK82OFMYXWEEOwtU5o7xZKo03sp\""
   ]
  }
 ],
 "metadata": {
  "kernelspec": {
   "display_name": "Python 3 (ipykernel)",
   "language": "python",
   "name": "python3"
  },
  "language_info": {
   "codemirror_mode": {
    "name": "ipython",
    "version": 3
   },
   "file_extension": ".py",
   "mimetype": "text/x-python",
   "name": "python",
   "nbconvert_exporter": "python",
   "pygments_lexer": "ipython3",
   "version": "3.9.7"
  }
 },
 "nbformat": 4,
 "nbformat_minor": 5
}
