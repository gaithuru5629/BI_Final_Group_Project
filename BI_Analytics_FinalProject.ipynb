{
 "cells": [
  {
   "cell_type": "markdown",
   "id": "bd476e78",
   "metadata": {},
   "source": [
    "## Social Media Data Analysis Using Tweeter Data"
   ]
  },
  {
   "cell_type": "markdown",
   "id": "b05ebe13",
   "metadata": {},
   "source": [
    "### Part 1 : Get the Data\n",
    "Using tweepy for authenticating the consumer key, consumer secret, access token and access token secret.\n",
    "Downloading public tweet data and storing the time, user and tweet details in a csv file."
   ]
  },
  {
   "cell_type": "code",
   "execution_count": 1,
   "id": "befa2871",
   "metadata": {},
   "outputs": [],
   "source": [
    "import tweepy\n",
    "import pandas as pd\n",
    "#import configparser"
   ]
  },
  {
   "cell_type": "code",
   "execution_count": 2,
   "id": "6516dff4",
   "metadata": {},
   "outputs": [],
   "source": [
    "%run ./keys.ipynb"
   ]
  },
  {
   "cell_type": "code",
   "execution_count": 3,
   "id": "4ecf9185",
   "metadata": {},
   "outputs": [],
   "source": [
    "auth = tweepy.OAuthHandler(consumer_key, consumer_secret)\n",
    "auth.set_access_token(access_token,access_token_secret)\n",
    "api = tweepy.API(auth)"
   ]
  },
  {
   "cell_type": "code",
   "execution_count": 4,
   "id": "ec94a4b3",
   "metadata": {},
   "outputs": [],
   "source": [
    "public_tweets = api.home_timeline()"
   ]
  },
  {
   "cell_type": "code",
   "execution_count": 5,
   "id": "9fcd7f15",
   "metadata": {
    "scrolled": false
   },
   "outputs": [],
   "source": [
    "#Printing all tweets\n",
    "#print(public_tweets)"
   ]
  },
  {
   "cell_type": "code",
   "execution_count": 6,
   "id": "c6720957",
   "metadata": {
    "scrolled": true
   },
   "outputs": [
    {
     "name": "stdout",
     "output_type": "stream",
     "text": [
      "Second Ebola patient dies in northwestern Congo, WHO says https://t.co/Xiim6EPqhh https://t.co/OCwjipf7gX\n",
      "Russia accuses NATO of creating a serious risk of nuclear war. Ukraine prepares war crimes charges against Russian… https://t.co/pzBYB6WHgc\n",
      "Fidelity to allow retirement savings allocation to bitcoin in 401(k) accounts https://t.co/WqijSHXVuM https://t.co/oB2kn9HFLr\n",
      "Warner Bros Discovery adds 2 mln subscribers in first quarter https://t.co/p1dgl9JMFv https://t.co/CM6m9OAPbw\n",
      "North Korea will speed up development of its nuclear arsenal, leader Kim Jong Un said while overseeing a huge milit… https://t.co/kDheiKFo15\n",
      "As plumes of smoke rose above the Azovstal steel plant where Ukrainian fighters are holed up in the port city of Ma… https://t.co/hoHUdZWT8z\n",
      "Moscow accused NATO of engaging in a proxy battle against Russia by arming Ukraine, saying this had created a serio… https://t.co/smoaiSX3bn\n",
      "TPG Growth acquires majority stake in proxy firm Morrow Sodali https://t.co/1RkwHhIVaW https://t.co/oHVChBS7Cl\n",
      "Karachi blast kills three Chinese, including Confucius centre head, and Pakistani https://t.co/Y84DloHEHu https://t.co/ekxykoBqIU\n",
      "HSBC puts 2022 buyback ambitions on ice as inflation accelerates https://t.co/pvjJwXgM0N https://t.co/qNpgwkyscy\n",
      "RT @ReutersScience: LIVE: NASA briefing with Bill Nelson ahead of SpaceX launch to ISS https://t.co/kNR9crcyqb\n",
      "Poland plans drastic cut to Warsaw flights in traffic controller row https://t.co/REdgDjiVQr https://t.co/UlaiAcdoXd\n",
      "A previously unreported account of a 36-hour chase in June 2020 offers a rare glimpse into how conservation group A… https://t.co/b5IhIZsKck\n",
      "HSBC posted a 27% drop in quarterly profit and nixed the possibility of more buybacks this year, as rising inflatio… https://t.co/hJEV6scETX\n",
      "Beijing to test 20 mln for COVID in bid to avert Shanghai lockdown misery https://t.co/n7iaxNFfjW https://t.co/AGccfXlnKE\n",
      "Russia's 'victory' in Mariupol turns city's dreams to rubble https://t.co/PkVcDXQyuY https://t.co/6VElufAFtd\n",
      "Today, April 26, marks the 36th anniversary of the Chornobyl nuclear disaster caused by a meltdown in a reactor in… https://t.co/ormVjw8qjH\n",
      "Health authorities around the world are investigating a mysterious increase in severe cases of hepatitis - inflamma… https://t.co/4VXkAxlg1z\n",
      "U.S. military landlord put families at risk even after fraud plea, Senate probe says https://t.co/k5RfUZiERE https://t.co/lKEqADEIYs\n",
      "Maersk says shipping boom will stabilise in H2, revises up profit guidance https://t.co/3XJKZSbGNx https://t.co/Xh3hQCObH0\n"
     ]
    }
   ],
   "source": [
    "#Printing tweets in public tweets\n",
    "for tweet in public_tweets:\n",
    "    print(tweet.text)"
   ]
  },
  {
   "cell_type": "code",
   "execution_count": 7,
   "id": "d2d1a4fb",
   "metadata": {},
   "outputs": [
    {
     "name": "stdout",
     "output_type": "stream",
     "text": [
      "Reuters\n"
     ]
    }
   ],
   "source": [
    "print(public_tweets[0].user.screen_name)\n",
    "#retweet_count"
   ]
  },
  {
   "cell_type": "code",
   "execution_count": 8,
   "id": "91019dd1",
   "metadata": {},
   "outputs": [],
   "source": [
    "columns = ['Time', 'Retweets', 'User', 'Tweet']\n",
    "data = []\n",
    "for tweet in public_tweets:\n",
    "    data. append([tweet.created_at, tweet.retweet_count, tweet.user.screen_name, tweet.text])"
   ]
  },
  {
   "cell_type": "code",
   "execution_count": 9,
   "id": "407ed5b6",
   "metadata": {},
   "outputs": [
    {
     "name": "stdout",
     "output_type": "stream",
     "text": [
      "[[datetime.datetime(2022, 4, 26, 13, 40, 19, tzinfo=datetime.timezone.utc), 13, 'Reuters', 'Second Ebola patient dies in northwestern Congo, WHO says https://t.co/Xiim6EPqhh https://t.co/OCwjipf7gX'], [datetime.datetime(2022, 4, 26, 13, 40, tzinfo=datetime.timezone.utc), 11, 'Reuters', 'Russia accuses NATO of creating a serious risk of nuclear war. Ukraine prepares war crimes charges against Russian… https://t.co/pzBYB6WHgc'], [datetime.datetime(2022, 4, 26, 13, 35, 20, tzinfo=datetime.timezone.utc), 9, 'Reuters', 'Fidelity to allow retirement savings allocation to bitcoin in 401(k) accounts https://t.co/WqijSHXVuM https://t.co/oB2kn9HFLr'], [datetime.datetime(2022, 4, 26, 13, 30, 22, tzinfo=datetime.timezone.utc), 7, 'Reuters', 'Warner Bros Discovery adds 2 mln subscribers in first quarter https://t.co/p1dgl9JMFv https://t.co/CM6m9OAPbw'], [datetime.datetime(2022, 4, 26, 13, 30, 10, tzinfo=datetime.timezone.utc), 21, 'Reuters', 'North Korea will speed up development of its nuclear arsenal, leader Kim Jong Un said while overseeing a huge milit… https://t.co/kDheiKFo15'], [datetime.datetime(2022, 4, 26, 13, 30, tzinfo=datetime.timezone.utc), 10, 'Reuters', 'As plumes of smoke rose above the Azovstal steel plant where Ukrainian fighters are holed up in the port city of Ma… https://t.co/hoHUdZWT8z'], [datetime.datetime(2022, 4, 26, 13, 29, 4, tzinfo=datetime.timezone.utc), 35, 'Reuters', 'Moscow accused NATO of engaging in a proxy battle against Russia by arming Ukraine, saying this had created a serio… https://t.co/smoaiSX3bn'], [datetime.datetime(2022, 4, 26, 13, 25, 18, tzinfo=datetime.timezone.utc), 6, 'Reuters', 'TPG Growth acquires majority stake in proxy firm Morrow Sodali https://t.co/1RkwHhIVaW https://t.co/oHVChBS7Cl'], [datetime.datetime(2022, 4, 26, 13, 20, 19, tzinfo=datetime.timezone.utc), 29, 'Reuters', 'Karachi blast kills three Chinese, including Confucius centre head, and Pakistani https://t.co/Y84DloHEHu https://t.co/ekxykoBqIU'], [datetime.datetime(2022, 4, 26, 13, 15, 21, tzinfo=datetime.timezone.utc), 10, 'Reuters', 'HSBC puts 2022 buyback ambitions on ice as inflation accelerates https://t.co/pvjJwXgM0N https://t.co/qNpgwkyscy'], [datetime.datetime(2022, 4, 26, 13, 11, 57, tzinfo=datetime.timezone.utc), 8, 'Reuters', 'RT @ReutersScience: LIVE: NASA briefing with Bill Nelson ahead of SpaceX launch to ISS https://t.co/kNR9crcyqb'], [datetime.datetime(2022, 4, 26, 13, 10, 19, tzinfo=datetime.timezone.utc), 8, 'Reuters', 'Poland plans drastic cut to Warsaw flights in traffic controller row https://t.co/REdgDjiVQr https://t.co/UlaiAcdoXd'], [datetime.datetime(2022, 4, 26, 13, 10, 7, tzinfo=datetime.timezone.utc), 18, 'Reuters', 'A previously unreported account of a 36-hour chase in June 2020 offers a rare glimpse into how conservation group A… https://t.co/b5IhIZsKck'], [datetime.datetime(2022, 4, 26, 13, 10, tzinfo=datetime.timezone.utc), 10, 'Reuters', 'HSBC posted a 27% drop in quarterly profit and nixed the possibility of more buybacks this year, as rising inflatio… https://t.co/hJEV6scETX'], [datetime.datetime(2022, 4, 26, 13, 5, 19, tzinfo=datetime.timezone.utc), 11, 'Reuters', 'Beijing to test 20 mln for COVID in bid to avert Shanghai lockdown misery https://t.co/n7iaxNFfjW https://t.co/AGccfXlnKE'], [datetime.datetime(2022, 4, 26, 13, 1, 10, tzinfo=datetime.timezone.utc), 36, 'Reuters', \"Russia's 'victory' in Mariupol turns city's dreams to rubble https://t.co/PkVcDXQyuY https://t.co/6VElufAFtd\"], [datetime.datetime(2022, 4, 26, 13, 0, 1, tzinfo=datetime.timezone.utc), 37, 'Reuters', 'Today, April 26, marks the 36th anniversary of the Chornobyl nuclear disaster caused by a meltdown in a reactor in… https://t.co/ormVjw8qjH'], [datetime.datetime(2022, 4, 26, 12, 56, 37, tzinfo=datetime.timezone.utc), 32, 'Reuters', 'Health authorities around the world are investigating a mysterious increase in severe cases of hepatitis - inflamma… https://t.co/4VXkAxlg1z'], [datetime.datetime(2022, 4, 26, 12, 55, 21, tzinfo=datetime.timezone.utc), 7, 'Reuters', 'U.S. military landlord put families at risk even after fraud plea, Senate probe says https://t.co/k5RfUZiERE https://t.co/lKEqADEIYs'], [datetime.datetime(2022, 4, 26, 12, 50, 18, tzinfo=datetime.timezone.utc), 7, 'Reuters', 'Maersk says shipping boom will stabilise in H2, revises up profit guidance https://t.co/3XJKZSbGNx https://t.co/Xh3hQCObH0']]\n"
     ]
    }
   ],
   "source": [
    "print (data)"
   ]
  },
  {
   "cell_type": "code",
   "execution_count": 10,
   "id": "32f2c925",
   "metadata": {},
   "outputs": [
    {
     "name": "stdout",
     "output_type": "stream",
     "text": [
      "<class 'pandas.core.frame.DataFrame'>\n",
      "RangeIndex: 20 entries, 0 to 19\n",
      "Data columns (total 4 columns):\n",
      " #   Column    Non-Null Count  Dtype              \n",
      "---  ------    --------------  -----              \n",
      " 0   Time      20 non-null     datetime64[ns, UTC]\n",
      " 1   Retweets  20 non-null     int64              \n",
      " 2   User      20 non-null     object             \n",
      " 3   Tweet     20 non-null     object             \n",
      "dtypes: datetime64[ns, UTC](1), int64(1), object(2)\n",
      "memory usage: 768.0+ bytes\n"
     ]
    }
   ],
   "source": [
    "df = pd.DataFrame(data, columns=columns)\n",
    "df.info()"
   ]
  },
  {
   "cell_type": "code",
   "execution_count": 11,
   "id": "287c25c8",
   "metadata": {},
   "outputs": [
    {
     "name": "stdout",
     "output_type": "stream",
     "text": [
      "                        Time  Retweets     User  \\\n",
      "0  2022-04-26 13:40:19+00:00        13  Reuters   \n",
      "1  2022-04-26 13:40:00+00:00        11  Reuters   \n",
      "2  2022-04-26 13:35:20+00:00         9  Reuters   \n",
      "3  2022-04-26 13:30:22+00:00         7  Reuters   \n",
      "4  2022-04-26 13:30:10+00:00        21  Reuters   \n",
      "5  2022-04-26 13:30:00+00:00        10  Reuters   \n",
      "6  2022-04-26 13:29:04+00:00        35  Reuters   \n",
      "7  2022-04-26 13:25:18+00:00         6  Reuters   \n",
      "8  2022-04-26 13:20:19+00:00        29  Reuters   \n",
      "9  2022-04-26 13:15:21+00:00        10  Reuters   \n",
      "10 2022-04-26 13:11:57+00:00         8  Reuters   \n",
      "11 2022-04-26 13:10:19+00:00         8  Reuters   \n",
      "12 2022-04-26 13:10:07+00:00        18  Reuters   \n",
      "13 2022-04-26 13:10:00+00:00        10  Reuters   \n",
      "14 2022-04-26 13:05:19+00:00        11  Reuters   \n",
      "15 2022-04-26 13:01:10+00:00        36  Reuters   \n",
      "16 2022-04-26 13:00:01+00:00        37  Reuters   \n",
      "17 2022-04-26 12:56:37+00:00        32  Reuters   \n",
      "18 2022-04-26 12:55:21+00:00         7  Reuters   \n",
      "19 2022-04-26 12:50:18+00:00         7  Reuters   \n",
      "\n",
      "                                                Tweet  \n",
      "0   Second Ebola patient dies in northwestern Cong...  \n",
      "1   Russia accuses NATO of creating a serious risk...  \n",
      "2   Fidelity to allow retirement savings allocatio...  \n",
      "3   Warner Bros Discovery adds 2 mln subscribers i...  \n",
      "4   North Korea will speed up development of its n...  \n",
      "5   As plumes of smoke rose above the Azovstal ste...  \n",
      "6   Moscow accused NATO of engaging in a proxy bat...  \n",
      "7   TPG Growth acquires majority stake in proxy fi...  \n",
      "8   Karachi blast kills three Chinese, including C...  \n",
      "9   HSBC puts 2022 buyback ambitions on ice as inf...  \n",
      "10  RT @ReutersScience: LIVE: NASA briefing with B...  \n",
      "11  Poland plans drastic cut to Warsaw flights in ...  \n",
      "12  A previously unreported account of a 36-hour c...  \n",
      "13  HSBC posted a 27% drop in quarterly profit and...  \n",
      "14  Beijing to test 20 mln for COVID in bid to ave...  \n",
      "15  Russia's 'victory' in Mariupol turns city's dr...  \n",
      "16  Today, April 26, marks the 36th anniversary of...  \n",
      "17  Health authorities around the world are invest...  \n",
      "18  U.S. military landlord put families at risk ev...  \n",
      "19  Maersk says shipping boom will stabilise in H2...  \n"
     ]
    }
   ],
   "source": [
    "print(df)"
   ]
  },
  {
   "cell_type": "code",
   "execution_count": 12,
   "id": "701c4da0",
   "metadata": {},
   "outputs": [],
   "source": [
    "df.to_csv('tweets.csv')"
   ]
  },
  {
   "cell_type": "code",
   "execution_count": 13,
   "id": "7d09222d",
   "metadata": {},
   "outputs": [],
   "source": [
    "# The Twitter API only allows access to the past few weeks of tweets, it does not allow you to go any further."
   ]
  },
  {
   "cell_type": "markdown",
   "id": "b35bc371",
   "metadata": {},
   "source": [
    "### Part 2:  Analyze the data\n",
    "\n",
    "1.\tSocial Media Data Analysis\n",
    "2.\tData Visualization\n",
    "3.\tSentimental analysis\n",
    "4.\tText mining"
   ]
  },
  {
   "cell_type": "markdown",
   "id": "ce2735a4",
   "metadata": {},
   "source": [
    "### Listing the top 10 most retweeted tweets"
   ]
  },
  {
   "cell_type": "code",
   "execution_count": 14,
   "id": "ebf214e6",
   "metadata": {},
   "outputs": [
    {
     "name": "stdout",
     "output_type": "stream",
     "text": [
      "                        Time  Retweets     User  \\\n",
      "16 2022-04-26 13:00:01+00:00        37  Reuters   \n",
      "15 2022-04-26 13:01:10+00:00        36  Reuters   \n",
      "6  2022-04-26 13:29:04+00:00        35  Reuters   \n",
      "17 2022-04-26 12:56:37+00:00        32  Reuters   \n",
      "8  2022-04-26 13:20:19+00:00        29  Reuters   \n",
      "4  2022-04-26 13:30:10+00:00        21  Reuters   \n",
      "12 2022-04-26 13:10:07+00:00        18  Reuters   \n",
      "0  2022-04-26 13:40:19+00:00        13  Reuters   \n",
      "1  2022-04-26 13:40:00+00:00        11  Reuters   \n",
      "14 2022-04-26 13:05:19+00:00        11  Reuters   \n",
      "5  2022-04-26 13:30:00+00:00        10  Reuters   \n",
      "9  2022-04-26 13:15:21+00:00        10  Reuters   \n",
      "13 2022-04-26 13:10:00+00:00        10  Reuters   \n",
      "2  2022-04-26 13:35:20+00:00         9  Reuters   \n",
      "10 2022-04-26 13:11:57+00:00         8  Reuters   \n",
      "11 2022-04-26 13:10:19+00:00         8  Reuters   \n",
      "3  2022-04-26 13:30:22+00:00         7  Reuters   \n",
      "18 2022-04-26 12:55:21+00:00         7  Reuters   \n",
      "19 2022-04-26 12:50:18+00:00         7  Reuters   \n",
      "\n",
      "                                                Tweet  \n",
      "16  Today, April 26, marks the 36th anniversary of...  \n",
      "15  Russia's 'victory' in Mariupol turns city's dr...  \n",
      "6   Moscow accused NATO of engaging in a proxy bat...  \n",
      "17  Health authorities around the world are invest...  \n",
      "8   Karachi blast kills three Chinese, including C...  \n",
      "4   North Korea will speed up development of its n...  \n",
      "12  A previously unreported account of a 36-hour c...  \n",
      "0   Second Ebola patient dies in northwestern Cong...  \n",
      "1   Russia accuses NATO of creating a serious risk...  \n",
      "14  Beijing to test 20 mln for COVID in bid to ave...  \n",
      "5   As plumes of smoke rose above the Azovstal ste...  \n",
      "9   HSBC puts 2022 buyback ambitions on ice as inf...  \n",
      "13  HSBC posted a 27% drop in quarterly profit and...  \n",
      "2   Fidelity to allow retirement savings allocatio...  \n",
      "10  RT @ReutersScience: LIVE: NASA briefing with B...  \n",
      "11  Poland plans drastic cut to Warsaw flights in ...  \n",
      "3   Warner Bros Discovery adds 2 mln subscribers i...  \n",
      "18  U.S. military landlord put families at risk ev...  \n",
      "19  Maersk says shipping boom will stabilise in H2...  \n"
     ]
    }
   ],
   "source": [
    "#Most liked tweets\n",
    "most_retweeted = df.loc[df.Retweets.nlargest(19).index]\n",
    "print(most_retweeted)"
   ]
  },
  {
   "cell_type": "code",
   "execution_count": 15,
   "id": "c568b495",
   "metadata": {
    "scrolled": true
   },
   "outputs": [
    {
     "data": {
      "text/html": [
       "<div>\n",
       "<style scoped>\n",
       "    .dataframe tbody tr th:only-of-type {\n",
       "        vertical-align: middle;\n",
       "    }\n",
       "\n",
       "    .dataframe tbody tr th {\n",
       "        vertical-align: top;\n",
       "    }\n",
       "\n",
       "    .dataframe thead th {\n",
       "        text-align: right;\n",
       "    }\n",
       "</style>\n",
       "<table border=\"1\" class=\"dataframe\">\n",
       "  <thead>\n",
       "    <tr style=\"text-align: right;\">\n",
       "      <th></th>\n",
       "      <th>Time</th>\n",
       "      <th>Retweets</th>\n",
       "      <th>User</th>\n",
       "      <th>Tweet</th>\n",
       "    </tr>\n",
       "  </thead>\n",
       "  <tbody>\n",
       "    <tr>\n",
       "      <th>0</th>\n",
       "      <td>2022-04-26 13:00:01+00:00</td>\n",
       "      <td>37</td>\n",
       "      <td>Reuters</td>\n",
       "      <td>Today, April 26, marks the 36th anniversary of...</td>\n",
       "    </tr>\n",
       "    <tr>\n",
       "      <th>1</th>\n",
       "      <td>2022-04-26 13:01:10+00:00</td>\n",
       "      <td>36</td>\n",
       "      <td>Reuters</td>\n",
       "      <td>Russia's 'victory' in Mariupol turns city's dr...</td>\n",
       "    </tr>\n",
       "    <tr>\n",
       "      <th>2</th>\n",
       "      <td>2022-04-26 13:29:04+00:00</td>\n",
       "      <td>35</td>\n",
       "      <td>Reuters</td>\n",
       "      <td>Moscow accused NATO of engaging in a proxy bat...</td>\n",
       "    </tr>\n",
       "    <tr>\n",
       "      <th>3</th>\n",
       "      <td>2022-04-26 12:56:37+00:00</td>\n",
       "      <td>32</td>\n",
       "      <td>Reuters</td>\n",
       "      <td>Health authorities around the world are invest...</td>\n",
       "    </tr>\n",
       "    <tr>\n",
       "      <th>4</th>\n",
       "      <td>2022-04-26 13:20:19+00:00</td>\n",
       "      <td>29</td>\n",
       "      <td>Reuters</td>\n",
       "      <td>Karachi blast kills three Chinese, including C...</td>\n",
       "    </tr>\n",
       "    <tr>\n",
       "      <th>5</th>\n",
       "      <td>2022-04-26 13:30:10+00:00</td>\n",
       "      <td>21</td>\n",
       "      <td>Reuters</td>\n",
       "      <td>North Korea will speed up development of its n...</td>\n",
       "    </tr>\n",
       "    <tr>\n",
       "      <th>6</th>\n",
       "      <td>2022-04-26 13:10:07+00:00</td>\n",
       "      <td>18</td>\n",
       "      <td>Reuters</td>\n",
       "      <td>A previously unreported account of a 36-hour c...</td>\n",
       "    </tr>\n",
       "    <tr>\n",
       "      <th>7</th>\n",
       "      <td>2022-04-26 13:40:19+00:00</td>\n",
       "      <td>13</td>\n",
       "      <td>Reuters</td>\n",
       "      <td>Second Ebola patient dies in northwestern Cong...</td>\n",
       "    </tr>\n",
       "    <tr>\n",
       "      <th>8</th>\n",
       "      <td>2022-04-26 13:40:00+00:00</td>\n",
       "      <td>11</td>\n",
       "      <td>Reuters</td>\n",
       "      <td>Russia accuses NATO of creating a serious risk...</td>\n",
       "    </tr>\n",
       "    <tr>\n",
       "      <th>9</th>\n",
       "      <td>2022-04-26 13:05:19+00:00</td>\n",
       "      <td>11</td>\n",
       "      <td>Reuters</td>\n",
       "      <td>Beijing to test 20 mln for COVID in bid to ave...</td>\n",
       "    </tr>\n",
       "    <tr>\n",
       "      <th>10</th>\n",
       "      <td>2022-04-26 13:30:00+00:00</td>\n",
       "      <td>10</td>\n",
       "      <td>Reuters</td>\n",
       "      <td>As plumes of smoke rose above the Azovstal ste...</td>\n",
       "    </tr>\n",
       "    <tr>\n",
       "      <th>11</th>\n",
       "      <td>2022-04-26 13:15:21+00:00</td>\n",
       "      <td>10</td>\n",
       "      <td>Reuters</td>\n",
       "      <td>HSBC puts 2022 buyback ambitions on ice as inf...</td>\n",
       "    </tr>\n",
       "    <tr>\n",
       "      <th>12</th>\n",
       "      <td>2022-04-26 13:10:00+00:00</td>\n",
       "      <td>10</td>\n",
       "      <td>Reuters</td>\n",
       "      <td>HSBC posted a 27% drop in quarterly profit and...</td>\n",
       "    </tr>\n",
       "    <tr>\n",
       "      <th>13</th>\n",
       "      <td>2022-04-26 13:35:20+00:00</td>\n",
       "      <td>9</td>\n",
       "      <td>Reuters</td>\n",
       "      <td>Fidelity to allow retirement savings allocatio...</td>\n",
       "    </tr>\n",
       "    <tr>\n",
       "      <th>14</th>\n",
       "      <td>2022-04-26 13:11:57+00:00</td>\n",
       "      <td>8</td>\n",
       "      <td>Reuters</td>\n",
       "      <td>RT @ReutersScience: LIVE: NASA briefing with B...</td>\n",
       "    </tr>\n",
       "    <tr>\n",
       "      <th>15</th>\n",
       "      <td>2022-04-26 13:10:19+00:00</td>\n",
       "      <td>8</td>\n",
       "      <td>Reuters</td>\n",
       "      <td>Poland plans drastic cut to Warsaw flights in ...</td>\n",
       "    </tr>\n",
       "    <tr>\n",
       "      <th>16</th>\n",
       "      <td>2022-04-26 13:30:22+00:00</td>\n",
       "      <td>7</td>\n",
       "      <td>Reuters</td>\n",
       "      <td>Warner Bros Discovery adds 2 mln subscribers i...</td>\n",
       "    </tr>\n",
       "    <tr>\n",
       "      <th>17</th>\n",
       "      <td>2022-04-26 12:55:21+00:00</td>\n",
       "      <td>7</td>\n",
       "      <td>Reuters</td>\n",
       "      <td>U.S. military landlord put families at risk ev...</td>\n",
       "    </tr>\n",
       "    <tr>\n",
       "      <th>18</th>\n",
       "      <td>2022-04-26 12:50:18+00:00</td>\n",
       "      <td>7</td>\n",
       "      <td>Reuters</td>\n",
       "      <td>Maersk says shipping boom will stabilise in H2...</td>\n",
       "    </tr>\n",
       "  </tbody>\n",
       "</table>\n",
       "</div>"
      ],
      "text/plain": [
       "                        Time  Retweets     User  \\\n",
       "0  2022-04-26 13:00:01+00:00        37  Reuters   \n",
       "1  2022-04-26 13:01:10+00:00        36  Reuters   \n",
       "2  2022-04-26 13:29:04+00:00        35  Reuters   \n",
       "3  2022-04-26 12:56:37+00:00        32  Reuters   \n",
       "4  2022-04-26 13:20:19+00:00        29  Reuters   \n",
       "5  2022-04-26 13:30:10+00:00        21  Reuters   \n",
       "6  2022-04-26 13:10:07+00:00        18  Reuters   \n",
       "7  2022-04-26 13:40:19+00:00        13  Reuters   \n",
       "8  2022-04-26 13:40:00+00:00        11  Reuters   \n",
       "9  2022-04-26 13:05:19+00:00        11  Reuters   \n",
       "10 2022-04-26 13:30:00+00:00        10  Reuters   \n",
       "11 2022-04-26 13:15:21+00:00        10  Reuters   \n",
       "12 2022-04-26 13:10:00+00:00        10  Reuters   \n",
       "13 2022-04-26 13:35:20+00:00         9  Reuters   \n",
       "14 2022-04-26 13:11:57+00:00         8  Reuters   \n",
       "15 2022-04-26 13:10:19+00:00         8  Reuters   \n",
       "16 2022-04-26 13:30:22+00:00         7  Reuters   \n",
       "17 2022-04-26 12:55:21+00:00         7  Reuters   \n",
       "18 2022-04-26 12:50:18+00:00         7  Reuters   \n",
       "\n",
       "                                                Tweet  \n",
       "0   Today, April 26, marks the 36th anniversary of...  \n",
       "1   Russia's 'victory' in Mariupol turns city's dr...  \n",
       "2   Moscow accused NATO of engaging in a proxy bat...  \n",
       "3   Health authorities around the world are invest...  \n",
       "4   Karachi blast kills three Chinese, including C...  \n",
       "5   North Korea will speed up development of its n...  \n",
       "6   A previously unreported account of a 36-hour c...  \n",
       "7   Second Ebola patient dies in northwestern Cong...  \n",
       "8   Russia accuses NATO of creating a serious risk...  \n",
       "9   Beijing to test 20 mln for COVID in bid to ave...  \n",
       "10  As plumes of smoke rose above the Azovstal ste...  \n",
       "11  HSBC puts 2022 buyback ambitions on ice as inf...  \n",
       "12  HSBC posted a 27% drop in quarterly profit and...  \n",
       "13  Fidelity to allow retirement savings allocatio...  \n",
       "14  RT @ReutersScience: LIVE: NASA briefing with B...  \n",
       "15  Poland plans drastic cut to Warsaw flights in ...  \n",
       "16  Warner Bros Discovery adds 2 mln subscribers i...  \n",
       "17  U.S. military landlord put families at risk ev...  \n",
       "18  Maersk says shipping boom will stabilise in H2...  "
      ]
     },
     "execution_count": 15,
     "metadata": {},
     "output_type": "execute_result"
    }
   ],
   "source": [
    "most_retweeted.reset_index(drop=True)"
   ]
  },
  {
   "cell_type": "code",
   "execution_count": 16,
   "id": "d2677e7e",
   "metadata": {},
   "outputs": [],
   "source": [
    "#saving retweets dataframe in CSV\n",
    "most_retweeted.to_csv(\"most_retweeted.csv\")"
   ]
  },
  {
   "cell_type": "markdown",
   "id": "1a63b2bf",
   "metadata": {},
   "source": [
    "## Text Mining"
   ]
  },
  {
   "cell_type": "markdown",
   "id": "1ecfacd2",
   "metadata": {},
   "source": [
    "### Obtaining tweets from a specific user accounts- IRCC @CitImmCanada"
   ]
  },
  {
   "cell_type": "code",
   "execution_count": 17,
   "id": "fe81962e",
   "metadata": {},
   "outputs": [
    {
     "name": "stdout",
     "output_type": "stream",
     "text": [
      "             User                                              Tweet\n",
      "0    CitImmCanada  @DenysProd 2/2 For case-specific information, ...\n",
      "1    CitImmCanada  @DenysProd 1/2 Hi. CUAET electronic visa appli...\n",
      "2    CitImmCanada  @eireenien 2/2 For case-specific information, ...\n",
      "3    CitImmCanada  @eireenien 1/2 Hi. CUAET electronic visa appli...\n",
      "4    CitImmCanada  Our online services were recently unavailable....\n",
      "..            ...                                                ...\n",
      "295  CitImmCanada  @Nazir64913160 1/2 Hi. Please check our websit...\n",
      "296  CitImmCanada  Canada welcomes French-speaking skilled worker...\n",
      "297  CitImmCanada  The first day of spring marks the beginning of...\n",
      "298  CitImmCanada  #DYK? There are 14 Welcoming Francophone Commu...\n",
      "299  CitImmCanada  #WelcomeAfghans: Today is the International Da...\n",
      "\n",
      "[300 rows x 2 columns]\n"
     ]
    }
   ],
   "source": [
    "#Obtaining tweets from specific user accounts\n",
    "#-In this case, IRCC @CitImmCanada\n",
    "\n",
    "user = \"CitImmCanada\"\n",
    "limit = 300  #the API returns a maximum of 200 tweets per request\n",
    "\n",
    "tweets_ircc = tweepy.Cursor(api.user_timeline, screen_name=user, count=200, tweet_mode=\"extended\").items(limit)\n",
    "\n",
    "#tweets_ircc = api.user_timeline(screen_name=user, count=limit, tweet_mode=\"extended\")\n",
    "\n",
    "#Creating a DataFrame to store the tweets by IRCC\n",
    "columns1 = [\"User\", \"Tweet\"]\n",
    "data = []\n",
    "\n",
    "for tweet in tweets_ircc:\n",
    "    data.append([tweet.user.screen_name, tweet.full_text])\n",
    "    #print(tweet.full_text)\n",
    "    \n",
    "ircc_df = pd.DataFrame(data,columns=columns1)\n",
    "print(ircc_df)\n",
    "#print(ircc_df.info())"
   ]
  },
  {
   "cell_type": "code",
   "execution_count": 18,
   "id": "71f526b7",
   "metadata": {},
   "outputs": [],
   "source": [
    "#saving IRCC tweets in csv\n",
    "ircc_df.to_csv(\"ircc_df.csv\")"
   ]
  },
  {
   "cell_type": "markdown",
   "id": "68a8000b",
   "metadata": {},
   "source": [
    "Sentiment analysis # https://www.youtube.com/watch?v=uPKnSq6TaAk\n",
    "Focus on analyzing:\n",
    "    1. Most retweeted words\n",
    "    2. IRCC tweets"
   ]
  },
  {
   "cell_type": "code",
   "execution_count": null,
   "id": "ab1c95dd",
   "metadata": {},
   "outputs": [],
   "source": []
  }
 ],
 "metadata": {
  "kernelspec": {
   "display_name": "Python 3 (ipykernel)",
   "language": "python",
   "name": "python3"
  },
  "language_info": {
   "codemirror_mode": {
    "name": "ipython",
    "version": 3
   },
   "file_extension": ".py",
   "mimetype": "text/x-python",
   "name": "python",
   "nbconvert_exporter": "python",
   "pygments_lexer": "ipython3",
   "version": "3.9.7"
  }
 },
 "nbformat": 4,
 "nbformat_minor": 5
}
