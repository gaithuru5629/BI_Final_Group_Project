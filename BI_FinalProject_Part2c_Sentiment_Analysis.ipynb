{
 "cells": [
  {
   "cell_type": "markdown",
   "id": "9672e05f",
   "metadata": {},
   "source": [
    "### Sentiment Analysis\n",
    "#### For IRCC Tweets\n",
    "Using the Twitter-roBERTa-base for Sentiment Analysis"
   ]
  },
  {
   "cell_type": "markdown",
   "id": "b6f8c17f",
   "metadata": {},
   "source": [
    "Since language used in tweets is conversational and short, we need to use an algorithm to analyze the tweets' sentiments. \n",
    "Such sentiment analysis algorithms include:\n",
    "\n",
    "* Twitter-roBERTa-base -  which uses Autotokenizer and Transformer modules\n",
    "* textblob - which uses the tweepy module to classify sentiments on a scale of +1 to -1. \n",
    "\n",
    "In this project, we will use textblob."
   ]
  },
  {
   "cell_type": "code",
   "execution_count": 1,
   "id": "03812f45",
   "metadata": {},
   "outputs": [],
   "source": [
    "#!pip install textblob"
   ]
  },
  {
   "cell_type": "code",
   "execution_count": 2,
   "id": "9288e8b2",
   "metadata": {},
   "outputs": [],
   "source": [
    "#!pip install vaderSentiment"
   ]
  },
  {
   "cell_type": "code",
   "execution_count": 3,
   "id": "befa2871",
   "metadata": {},
   "outputs": [],
   "source": [
    "import tweepy\n",
    "import pandas as pd\n",
    "from textblob import TextBlob\n",
    "from vaderSentiment.vaderSentiment import SentimentIntensityAnalyzer"
   ]
  },
  {
   "cell_type": "code",
   "execution_count": 4,
   "id": "a24bb083",
   "metadata": {},
   "outputs": [
    {
     "data": {
      "text/plain": [
       "\"0      @waris2292 2/2 Unfortunately the social media ...\\n1      @waris2292 1/2 Hi. Please continue to wait for...\\n2      @Jafari23672215 2/2 You must meet program requ...\\n3      @Jafari23672215 1/2 Hi. Please check our websi...\\n4      @DenysProd 2/2 For case-specific information, ...\\n5      @DenysProd 1/2 Hi. CUAET electronic visa appli...\\n6      @eireenien 2/2 For case-specific information, ...\\n7      @eireenien 1/2 Hi. CUAET electronic visa appli...\\n8      Our online services were recently unavailable....\\n9      ONLINE SERVICE HELP: Reminder - Online service...\\n10     @MissButlerEAL 2/2 If a client is in Afghanist...\\n11     @MissButlerEAL 1/2 Hi. Did you apply under the...\\n12     @Lyuba_Petrenko 2/2 For case-specific informat...\\n13     @Lyuba_Petrenko 1/2 Hi. CUAET electronic visa ...\\n14     @ifomenko_ 2/2 general guidance for IRCC progr...\\n15     @ifomenko_ 1/2 Hi. As part of the special Ukra...\\n16     @Lyuba_Petrenko 2/2 provide general guidance f...\\n17     @Lyuba_Petrenko 1/2 Hi. As part of the special...\\n18     @nanayaa7171 Hi. Ukrainian nationals who have ...\\n19     @lariushkin 2/2 For case-specific information,...\\n20     @lariushkin 1/2 Hi. CUAET electronic visa appl...\\n21     @HananHasani 3/3 Canada also has other immigra...\\n22     @HananHasani 2/3 accepted applications as quic...\\n23     @HananHasani 1/3 We know that there are still ...\\n24     @LalaJan73572443 2/2 You must meet program req...\\n25     @LalaJan73572443 1/2 Hi. Please check our webs...\\n26     ONLINE SERVICE HELP: Our online services will ...\\n27     @NikulinMichael 2/2 Be sure to click on your s...\\n28     @NikulinMichael 1/2 Hi. To clarify, have they ...\\n29     @nasirseddiqi5 3/3 Canada also has other immig...\\n30     @nasirseddiqi5 2/3 accepted applications as qu...\\n31     @nasirseddiqi5 1/3 We know that there are stil...\\n32     These changes will help ensure Canadian employ...\\n33     New measures for temporary resident to permane...\\n34     Starting in mid-June, former international stu...\\n35     We will end the temporary pause on Express Ent...\\n36     To support Canada's economic growth and help a...\\n37     #DYK? By reducing food waste, Canada can also ...\\n38     @Mohamma95026971 4/4 You must meet program req...\\n39     @Mohamma95026971 3/4 Please check our website ...\\n40     @Mohamma95026971 2/4 Please know that we conti...\\n41     @Mohamma95026971 1/4 Hi. We know that there ar...\\n42     @AnastasiiaMira 3/3 If you've applied for the ...\\n43     @AnastasiiaMira 2/3 local VAC for an update on...\\n44     @AnastasiiaMira 1/3 Hi. Sorry to hear this and...\\n45     For more information on biometrics and the exe...\\n46     Make sure to book an appointment after you hav...\\n47     The Canadian Biometric Collection Centre in Wa...\\n48     World Creativity and Innovation Day celebrates...\\n49     @Anis4030 3/3 Canada also has other immigratio...\\n50     @rajasamir1 Hi. Those who obtained a new passp...\\n51     @Anis4030 2/3 accepted applications as quickly...\\n52     @Anis4030 1/3 We know that there are still man...\\n53     @AryanOSU Hi. Answer a few questions to find o...\\n54     @MamtaKakkar2004 Hi. To clarify, where are you...\\n55     Reminder: Fees for all permanent residence app...\\n56     @RajatAhluwali11 2/2 If the border services of...\\n57     @RajatAhluwali11 1/2 Hi. You need a valid medi...\\n58     The goal of the Ukraine2Canada Travel Fund is ...\\n59     For those who want to donate cash:\\\\n✅Travel &a...\\n60     As of today, Canadians and Canadian companies ...\\n61     Today in Halifax, Minister Fraser announced th...\\n62     @greatlekhs1 2/2 You followed all the right st...\\n63     @greatlekhs1 1/2 Hi. It can take some time for...\\n64     @zaraar543 6/6 Note: Client support centre age...\\n65     @zaraar543 5/6 If you are waiting for a step o...\\n66     @zaraar543 4/6 Processing times can be delayed...\\n67     @zaraar543 3/6 most applications. Processing y...\\n68     @zaraar543 2/6 your case or processing timelin...\\n69     @zaraar543 1/6 Hi. Sorry to hear that, that so...\\n70     @raz4ck 6/6 Note: Client support centre agents...\\n71     @raz4ck 5/6 If you are waiting for a step of p...\\n72     @raz4ck 4/6 Processing times can be delayed du...\\n73     @raz4ck 3/6 Processing your applications could...\\n74     @raz4ck 2/6 You can check the processing times...\\n75     @raz4ck 1/6 Hi. Please note we cannot respond ...\\n76     @nickinack1 6/6 Note: Client support centre ag...\\n77     @nickinack1 5/6 If you are waiting for a step ...\\n78     @nickinack1 4/6 Processing times can be delaye...\\n79     @nickinack1 3/6 most applications. Processing ...\\n80     @nickinack1 2/6 your case or processing timeli...\\n81     @nickinack1 1/6 Hi. Sorry to hear that, that s...\\n82     @Rahul38785682 3/3 If you wish to visit insert...\\n83     @Rahul38785682 2/3 A border services officer w...\\n84     @Rahul38785682 1/3 Hi. A transit visa does all...\\n85     @tahami_dar 6/6 Note: Client support centre ag...\\n86     @tahami_dar 5/6 If you are waiting for a step ...\\n87     @tahami_dar 4/6 Processing times can be delaye...\\n88     @tahami_dar 3/6 Processing your applications c...\\n89     @tahami_dar 2/6 You can check the processing t...\\n90     @tahami_dar 1/6 Hi. Please note we cannot resp...\\n91     @Ishadayal6 Hi. Yes, it's possible to apply fo...\\n92     @akbarprasla Hi. Those who obtained a new pass...\\n93     @Karan_Malhotra7 6/6 Note: Client support cent...\\n94     @Karan_Malhotra7 5/6 If you are waiting for a ...\\n95     @Karan_Malhotra7 4/6 Processing times can be d...\\n96     @Karan_Malhotra7 3/6 Processing your applicati...\\n97     @Karan_Malhotra7 2/6 You can check the process...\\n98     @Karan_Malhotra7 1/6 Hi. Please note we cannot...\\n99     @paulaso15745195 Hi. Yes, if your SX-1 visa is...\\n100    @JindalRashpal Hi. To clarify, where are you a...\\n101    The eTA system is now available. Thank you for...\\n102    @Oziomamaduka1 Hi. Most foreign nationals need...\\n103    @BeingMazharKhan 3/3 requirements and you may ...\\n104    @BeingMazharKhan 2/3 help you to complete your...\\n105    @BeingMazharKhan 1/3 Hi. The first step is for...\\n106    @benymahajan Hi. You can contact your VAC and ...\\n107    Our online services are down, including eTA ap...\\n108    @Elhamsadat111 3/3 Canada also has other immig...\\n109    @Elhamsadat111 2/3 accepted applications as qu...\\n110    @Elhamsadat111 1/3 We know that there are stil...\\n111    @wisalwasi 3/3 Canada also has other immigrati...\\n112    @wisalwasi 2/3 accepted applications as quickl...\\n113    @wisalwasi Hi. We know that there are still ma...\\n114    @nirvana224 Hi. If they have given biometric i...\\n115    @GundayaoPhilmar Please use our web form, the ...\\n116    @Abdulla17538855 Hi. Please use our web form, ...\\n117    The IRCC Social Media team will not respond to...\\n118    @mf_jmz Hi. Sorry, to confirm, did you apply f...\\n119    @Hk06904477 3/3 Canada also has other immigrat...\\n120    @Hk06904477 2/3 accepted applications as quick...\\n121    @Hk06904477 1/3 Hi Bashir. We know that there ...\\n122    @AbidEjaz12 Hi. You can contact your VAC and t...\\n123    @lalaski90 Hi. Sorry to hear that, that sounds...\\n124    @Jaimin23Shah 2/2 You followed all the right s...\\n125    @Jaimin23Shah 1/2 Hi. It can take some time fo...\\n126    @KiskaMurka3 Hi. Thanks for reaching out again...\\n127    @KiskaMurka3 2/2 You can also find a Service O...\\n128    @KiskaMurka3 1/2 Hi. Sorry to hear that, that ...\\n129    @BeingMazharKhan 3/3 Canada also has other imm...\\n130    @BeingMazharKhan 2/3 accepted applications as ...\\n131    @BeingMazharKhan 1/3 We know that there are st...\\n132    @inna_nomerovska Hi. Apologies for the delay. ...\\n133    @ravirajcm Hi. To confirm, are you still exper...\\n134    @SheikhSaudSaadi Hi. Sorry to hear that, that ...\\n135    @nuttergay Hi. There are currently no special ...\\n136    @Text_Lag Hi. Thanks for reaching out. To conf...\\n137    RT @Nat_Div_RCMP: The RCMP has an important me...\\n138    @waris2292 3/3 Canada also has other immigrati...\\n139    @waris2292 2/3 accepted applications as quickl...\\n140    @waris2292 1/3 Hi. We know that there are stil...\\n141    @hkphotovision 3/3 You don’t need to contact u...\\n142    @hkphotovision 2/3 More here: https://t.co/oLZ...\\n143    @hkphotovision 1/3 Sorry to hear about your si...\\n144    RT @FinanceCanada: #Budget2022 is a plan to gr...\\n145    RT @FinanceCanada: LIVE: Deputy Prime Minister...\\n146    @MehdiMirzayi10 2/2 You must meet program requ...\\n147    @MehdiMirzayi10 1/2 Hi Mehdi. Please check our...\\n148    @Naemkha81676394 3/3 Canada also has other imm...\\n149    @Naemkha81676394 2/3  accepted applications as...\\n150    @Naemkha81676394 1/3 Hi. We know that there ar...\\n151    @FarooqAzimi2 2/2 You must meet program requir...\\n152    @FarooqAzimi2 1/2 Hi. Please check our website...\\n153    #WelcomeAfghans: Today at @FlyYYC in Calgary, ...\\n154    Congratulations to 67 #NewCanadians from 27 di...\\n155    Canada will be the first chair of the Global T...\\n156    Labour complementary pathways help refugees mo...\\n157    Today, in collaboration with international par...\\n158    #WelcomeAfghans: Newcomer families, local chil...\\n159    Notice: Fees for all permanent residence appli...\\n160    @ACAANorth 2/2 Unfortunately the social media ...\\n161    @ACAANorth 1/2 As mentioned, Please continue t...\\n162    @khanfana 3/3 Canada also has other immigratio...\\n163    @khanfana 2/3 accepted applications as quickly...\\n164    @khanfana 1/3 Hi. We know that there are still...\\n165    @Sadiq23454457 4/4 Please contact the Canadian...\\n166    @Sadiq23454457 3/4 Meeting entry and exit requ...\\n167    @Sadiq23454457 2/4 how quickly we get exit per...\\n168    @Sadiq23454457 1/4 We are processing applicati...\\n169    @NnNn82221626 4/4 Canada also has other immigr...\\n170    @NnNn82221626 3/4 Please check our website reg...\\n171    @NnNn82221626 2/4 Please know that we continue...\\n172    @NnNn82221626 1/4 Hi. Sorry to hear this. We k...\\n173    The IRCC Social Media team will not respond to...\\n174    #ICYMI: Earlier this week in Toronto, Canada w...\\n175    @Roia64996785 Unfortunately the social media t...\\n176    @Roia64996785 As we mentioned, please continue...\\n177    @Lyuba_Petrenko Please use our web form, the i...\\n178    @vkovyrkina 3/3 has been extended until you ca...\\n179    @vkovyrkina 2/3 More here: https://t.co/oLZOHl...\\n180    @vkovyrkina 1/3 Sorry to hear about your situa...\\n181    We will continue our work to digitize and mode...\\n182    We've updated our processing times tool to sho...\\n183    We exceeded our citizenship goals for 2021-22,...\\n184    We surpassed our goal to make 147,000 permanen...\\n185    We are focused on improving client service. To...\\n186    Looking for online information to help you adj...\\n187    @grh_2001 4/4 they will be able to provide you...\\n188    @grh_2001 3/4 Meeting entry and exit requireme...\\n189    @grh_2001 2/4 how quickly we get exit permits ...\\n190    @grh_2001 1/4 We are processing applications a...\\n191    @im__usman @Carol_McQueen 4/4 You must meet pr...\\n192    @im__usman @Carol_McQueen 3/4 Please check our...\\n193    @im__usman @Carol_McQueen 2/4 Please know that...\\n194    @im__usman @Carol_McQueen 1/4 We know that the...\\n195    It's the last day of Fraud Prevention Month 20...\\n196    Learn more about how to apply for the Canada-U...\\n197    In early April 2022, @RedCrossCanada will prov...\\n198    Settlement services are available from 550 age...\\n199    We are now offering temporary support to help ...\\n200    We continue to work with international and dom...\\n201    A special thank you to all the Resettlement As...\\n202    Today, in Toronto, Minister Fraser welcomed th...\\n203    Congratulations to @CanadaSoccerEN and their F...\\n204    @Brad_Gagnon 3/3 There are several ways in whi...\\n205    @Brad_Gagnon 2/3 For more information on suppo...\\n206    @Brad_Gagnon 1/3 Hi Brad. For instructions on ...\\n207    @RosewoodChurch Hi. There are several ways in ...\\n208    @DmytroHromov 2/2 For more information on supp...\\n209    @DmytroHromov 1/2 Hi. For instructions on how ...\\n210    @medvezay 2/2 For more information on support ...\\n211    @medvezay 1/2 Hi Sarah. For instructions on ho...\\n212    @OctavianPetre 2/2 For more information on sup...\\n213    @OctavianPetre 1/2 Hi. For instructions on how...\\n214    @NataliiaSino Hi Nataliia. Sorry to hear this....\\n215    Preparing to move to a new country and settlin...\\n216    @AnujDawar12 Hi. Can you please clarify which ...\\n217    @PoomalayeY Hi. Are you still experiencing iss...\\n218    If it seems too good to be true, it probably i...\\n219    @Zhaoeu1 Hi. Please use our web form, the info...\\n220    @SokolenkoNelia 3/3 You don’t need to contact ...\\n221    @SokolenkoNelia 2/3 More here: https://t.co/oL...\\n222    @SokolenkoNelia 1/3 Sorry to hear about your s...\\n223    @skravchenko85 Hi. Please use our web form, th...\\n224    @KastisKastiss 3/3 Your deadline to submit you...\\n225    @KastisKastiss 2/3 More here: https://t.co/oLZ...\\n226    @KastisKastiss 1/3 Sorry to hear about your si...\\n227    @ibrahim43002272 Hi. If you were approved unde...\\n228    @HajiAhmed55 Hi. Have you already applied thro...\\n229    @MohmandAryan Please continue to wait for an u...\\n230    @basnataliia 2/2 please try using a different ...\\n231    @basnataliia 1/2 Hi. Our website is now workin...\\n232    @HeraMission Hi. Only Ukrainian nationals and ...\\n233    They are working with @TalentPoolHub in Calgar...\\n234    For many newcomers, entering the Canadian job ...\\n235    #WelcomeAfghans: Canada has now welcomed over ...\\n236    @Omidliwal1 2/2 You must meet program requirem...\\n237    @Omidliwal1 1/2 Please check our website for i...\\n238    @Islam01Muslim 3/3 Canada also has other immig...\\n239    @Islam01Muslim 2/3 accepted applications as qu...\\n240    @Islam01Muslim 1/3 We know that there are stil...\\n241    @HajiAhmed55 2/2 You must meet program require...\\n242    @HajiAhmed55 1/2 Hi. Please check our website ...\\n243    @Saima55540397 3/3 Our website is a good place...\\n244    @Saima55540397 2/3 You must meet program requi...\\n245    @Saima55540397 1/3 Hi. Please check our websit...\\n246    @Ahmadwali1022 2/2 You must meet program requi...\\n247    @Ahmadwali1022 1/2 Please check our website fo...\\n248    @Momana68877279 3/3 Canada also has other immi...\\n249    @Momana68877279 2/3 accepted applications as q...\\n250    @Momana68877279 1/3 We know that there are sti...\\n251    Many newcomer services are available online fo...\\n252    @munadebby 2/2 For more information on support...\\n253    @munadebby 1/2 Hi. For instructions on how to ...\\n254    @arafat_polash Hi. Only Ukrainian nationals an...\\n255    @MacJordaN Hi. Only Ukrainian nationals and th...\\n256    @BelindaJDodson Hi. Only Ukrainian nationals a...\\n257    RT @SickKidsNews: Three patients with cancer a...\\n258    This can make it harder to get assistance to t...\\n259    It is important to follow the immigration laws...\\n260    If you plan to leave Afghanistan, you must che...\\n261    @AnastasiiaMira 3/3 You don’t need to contact ...\\n262    @AnastasiiaMira 2/3 More here: https://t.co/oL...\\n263    @AnastasiiaMira 1/3 Hi. Sorry to hear about yo...\\n264    @x_sunne 3/3 You don’t need to contact us to g...\\n265    @x_sunne 2/3 More here: https://t.co/oLZOHlAHY...\\n266    @x_sunne 1/3 Hi. Sorry to hear about your situ...\\n267    @yuriysychov777 Hi. Sorry to hear that, that s...\\n268    @Sahargu36367209 2/2 You must meet program req...\\n269    @Sahargu36367209 1/2 Please check our website ...\\n270    @FazelAhmadMohdi 3/3 Canada also has other imm...\\n271    @FazelAhmadMohdi 2/3 accepted applications as ...\\n272    @FazelAhmadMohdi 1/3 We know that there are st...\\n273    Newcomers to Canada might not be familiar with...\\n274    On #WorldWaterDay, we're recognizing the effor...\\n275    @Hasib199787557 2/2 Unfortunately the social m...\\n276    @Hasib199787557 1/2 Hi. Please continue to wai...\\n277    @svitozar Hi. We wanted to make sure you're aw...\\n278    Are you a French-speaking newcomer to Canada? ...\\n279    @olga_chyzh Hi Prof Chyzh, we wanted to make s...\\n280    Our online services were recently unavailable....\\n281    ONLINE SERVICE HELP: Reminder - Online service...\\n282    ONLINE SERVICE HELP: Our online services will ...\\n283    @RabiKhelif 2/2 Once the fee is paid and assig...\\n284    @RabiKhelif 1/2 Hi. Did you send us your biome...\\n285    @DonttPrayForMe 2/2 the information you need t...\\n286    @DonttPrayForMe 1/2 Hi. As long as you have th...\\n287    @hadisaifi22 2/2 You must meet program require...\\n288    @hadisaifi22 1/2 Please check our website for ...\\n289    @AnnaPolyvyana 2/2 More here: https://t.co/oLZ...\\n290    @AnnaPolyvyana 1/2 Hi. Sorry to hear about you...\\n291    @hazratwaliwafa 3/3 Canada also has other immi...\\n292    @hazratwaliwafa 2/3 accepted applications as q...\\n293    @hazratwaliwafa 1/3 We know that there are sti...\\n294    @HajiAhmed55 3/3 Canada also has other immigra...\\n295    @HajiAhmed55 2/3 accepted applications as quic...\\n296    @HajiAhmed55 1/3 We know that there are still ...\\n297    Don't be a victim of immigration fraud. If it ...\\n298    @Nazir64913160 2/2 You must meet program requi...\\n299    @Nazir64913160 1/2 Hi. Please check our websit...\""
      ]
     },
     "execution_count": 4,
     "metadata": {},
     "output_type": "execute_result"
    }
   ],
   "source": [
    "ircc_df = pd.read_csv(\"ircc_df.csv\")\n",
    "tweets_ircc = ircc_df[\"Tweet\"]\n",
    "tweets_ircc = tweets_ircc.to_string()\n",
    "tweets_ircc"
   ]
  },
  {
   "cell_type": "code",
   "execution_count": 5,
   "id": "1e9b8b89",
   "metadata": {},
   "outputs": [],
   "source": [
    "# sentiments function\n",
    "def sentiment_scores(sentence):\n",
    " \n",
    "    # Object for Sentiment Analysis\n",
    "    sid_obj = SentimentIntensityAnalyzer()\n",
    " \n",
    "    # Sentiment score which contains pos, neg, neu, and compound scores.\n",
    "    sentiment_dict = sid_obj.polarity_scores(sentence)\n",
    "     \n",
    "    print(\"Overall sentiments: \", sentiment_dict)\n",
    "    print(\"Rating is \", sentiment_dict['neg']*100, \"% Negative\")\n",
    "    print(\"Rating is \", sentiment_dict['neu']*100, \"% Neutral\")\n",
    "    print(\"Rating is \", sentiment_dict['pos']*100, \"% Positive\")\n",
    " \n",
    "    print(\"Overall sentence rating is\", end = \" \")\n",
    " \n",
    "    # decide if sentiment is overall positive, negative and neutral\n",
    "    if sentiment_dict['compound'] >= 0.05 :\n",
    "        print(\"Positive\")\n",
    " \n",
    "    elif sentiment_dict['compound'] <= - 0.05 :\n",
    "        print(\"Negative\")\n",
    " \n",
    "    else :\n",
    "        print(\"Neutral\")\n",
    " "
   ]
  },
  {
   "cell_type": "code",
   "execution_count": 6,
   "id": "b5892c36",
   "metadata": {},
   "outputs": [
    {
     "name": "stdout",
     "output_type": "stream",
     "text": [
      "Overall sentiments:  {'neg': 0.024, 'neu': 0.882, 'pos': 0.093, 'compound': 0.9995}\n",
      "Rating is  2.4 % Negative\n",
      "Rating is  88.2 % Neutral\n",
      "Rating is  9.3 % Positive\n",
      "Overall sentence rating is Positive\n"
     ]
    }
   ],
   "source": [
    "#calling the sentiments analyzer function - using the ircc csv data we retrieved\n",
    "sentiment_scores(tweets_ircc)\n",
    "\n"
   ]
  },
  {
   "cell_type": "code",
   "execution_count": null,
   "id": "29b9a0a9",
   "metadata": {},
   "outputs": [],
   "source": []
  }
 ],
 "metadata": {
  "kernelspec": {
   "display_name": "Python 3 (ipykernel)",
   "language": "python",
   "name": "python3"
  },
  "language_info": {
   "codemirror_mode": {
    "name": "ipython",
    "version": 3
   },
   "file_extension": ".py",
   "mimetype": "text/x-python",
   "name": "python",
   "nbconvert_exporter": "python",
   "pygments_lexer": "ipython3",
   "version": "3.9.7"
  }
 },
 "nbformat": 4,
 "nbformat_minor": 5
}
